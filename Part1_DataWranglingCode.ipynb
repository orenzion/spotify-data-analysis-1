{
 "cells": [
  {
   "cell_type": "code",
   "execution_count": 54,
   "metadata": {
    "collapsed": true
   },
   "outputs": [],
   "source": [
    "# IMPORT PACKAGES\n",
    "import pandas as pd "
   ]
  },
  {
   "cell_type": "code",
   "execution_count": 73,
   "metadata": {
    "collapsed": true
   },
   "outputs": [],
   "source": [
    "# GETTING PLAYLISTS FROM READ_EXCEL\n",
    "liked = pd.read_excel('LIKES.xlsx')\n",
    "disliked = pd.read_excel('DISLIKES.xlsx')\n",
    "tophits = pd.read_excel('TOP_HITS.xlsx')\n",
    "\n",
    "liked = liked.dropna().reset_index(drop=True)\n",
    "disliked = disliked.dropna().reset_index(drop=True)\n",
    "tophits = tophits.dropna().reset_index(drop=True)\n",
    "\n",
    "liked = liked.rename(columns=lambda x: x.replace('.', ''))\n",
    "disliked = disliked.rename(columns=lambda x: x.replace('.', ''))\n",
    "tophits = tophits.rename(columns=lambda x: x.replace('.', ''))"
   ]
  },
  {
   "cell_type": "code",
   "execution_count": 80,
   "metadata": {},
   "outputs": [
    {
     "name": "stdout",
     "output_type": "stream",
     "text": [
      "<class 'pandas.core.frame.DataFrame'>\n",
      "RangeIndex: 620 entries, 0 to 619\n",
      "Data columns (total 11 columns):\n",
      "TITLE       620 non-null object\n",
      "ARTIST      620 non-null object\n",
      "RELEASE     620 non-null object\n",
      "BPM         620 non-null float64\n",
      "ENERGY      620 non-null float64\n",
      "DANCE       620 non-null float64\n",
      "LOUD        620 non-null float64\n",
      "VALENCE     620 non-null float64\n",
      "LENGTH      620 non-null object\n",
      "ACOUSTIC    620 non-null float64\n",
      "POP         620 non-null float64\n",
      "dtypes: float64(7), object(4)\n",
      "memory usage: 53.4+ KB\n",
      "<class 'pandas.core.frame.DataFrame'>\n",
      "RangeIndex: 529 entries, 0 to 528\n",
      "Data columns (total 11 columns):\n",
      "TITLE       529 non-null object\n",
      "ARTIST      529 non-null object\n",
      "RELEASE     529 non-null object\n",
      "BPM         529 non-null float64\n",
      "ENERGY      529 non-null float64\n",
      "DANCE       529 non-null float64\n",
      "LOUD        529 non-null float64\n",
      "VALENCE     529 non-null float64\n",
      "LENGTH      529 non-null object\n",
      "ACOUSTIC    529 non-null float64\n",
      "POP         529 non-null float64\n",
      "dtypes: float64(7), object(4)\n",
      "memory usage: 45.5+ KB\n",
      "<class 'pandas.core.frame.DataFrame'>\n",
      "RangeIndex: 124 entries, 0 to 123\n",
      "Data columns (total 11 columns):\n",
      "TITLE       124 non-null object\n",
      "ARTIST      124 non-null object\n",
      "RELEASE     124 non-null datetime64[ns]\n",
      "BPM         124 non-null float64\n",
      "ENERGY      124 non-null float64\n",
      "DANCE       124 non-null float64\n",
      "LOUD        124 non-null float64\n",
      "VALENCE     124 non-null float64\n",
      "LENGTH      124 non-null object\n",
      "ACOUSTIC    124 non-null float64\n",
      "POP         124 non-null float64\n",
      "dtypes: datetime64[ns](1), float64(7), object(3)\n",
      "memory usage: 10.7+ KB\n"
     ]
    }
   ],
   "source": [
    "# INSPECTING THE DATAFRAMES\n",
    "liked.info()\n",
    "disliked.info()\n",
    "tophits.info()"
   ]
  },
  {
   "cell_type": "code",
   "execution_count": null,
   "metadata": {
    "collapsed": true
   },
   "outputs": [],
   "source": []
  }
 ],
 "metadata": {
  "kernelspec": {
   "display_name": "Python 3",
   "language": "python",
   "name": "python3"
  },
  "language_info": {
   "codemirror_mode": {
    "name": "ipython",
    "version": 3
   },
   "file_extension": ".py",
   "mimetype": "text/x-python",
   "name": "python",
   "nbconvert_exporter": "python",
   "pygments_lexer": "ipython3",
   "version": "3.6.1"
  }
 },
 "nbformat": 4,
 "nbformat_minor": 2
}
